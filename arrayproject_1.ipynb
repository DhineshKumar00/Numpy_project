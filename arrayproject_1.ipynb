{
  "nbformat": 4,
  "nbformat_minor": 0,
  "metadata": {
    "colab": {
      "provenance": []
    },
    "kernelspec": {
      "name": "python3",
      "display_name": "Python 3"
    },
    "language_info": {
      "name": "python"
    }
  },
  "cells": [
    {
      "cell_type": "code",
      "execution_count": 2,
      "metadata": {
        "id": "B4zVKJjUenPW"
      },
      "outputs": [],
      "source": [
        "import numpy as np"
      ]
    },
    {
      "cell_type": "code",
      "source": [
        "# array creation\n",
        "scl = np.array([[101,102,103,104],[1321,2432,3543,4654],[67,98,87,35]])\n",
        "scl"
      ],
      "metadata": {
        "colab": {
          "base_uri": "https://localhost:8080/"
        },
        "id": "OrmWO_rEe1sX",
        "outputId": "27862d19-0612-499c-9fd1-0117611f962c"
      },
      "execution_count": 3,
      "outputs": [
        {
          "output_type": "execute_result",
          "data": {
            "text/plain": [
              "array([[ 101,  102,  103,  104],\n",
              "       [1321, 2432, 3543, 4654],\n",
              "       [  67,   98,   87,   35]])"
            ]
          },
          "metadata": {},
          "execution_count": 3
        }
      ]
    },
    {
      "cell_type": "code",
      "source": [
        "# explortion\n",
        "\n",
        "scl.shape\n",
        "scl.ndim\n",
        "scl.size"
      ],
      "metadata": {
        "colab": {
          "base_uri": "https://localhost:8080/"
        },
        "id": "Yv52ajEZe2e0",
        "outputId": "cbe0b0d3-2e6e-4505-86a9-207b83a1a4ed"
      },
      "execution_count": 4,
      "outputs": [
        {
          "output_type": "execute_result",
          "data": {
            "text/plain": [
              "12"
            ]
          },
          "metadata": {},
          "execution_count": 4
        }
      ]
    },
    {
      "cell_type": "code",
      "source": [
        "# transform data to readable in diff form\n",
        "scl.T"
      ],
      "metadata": {
        "colab": {
          "base_uri": "https://localhost:8080/"
        },
        "id": "j1Z_ed38fIh5",
        "outputId": "8285ed7e-2ab4-495b-b5d5-0aeaef71e933"
      },
      "execution_count": 5,
      "outputs": [
        {
          "output_type": "execute_result",
          "data": {
            "text/plain": [
              "array([[ 101, 1321,   67],\n",
              "       [ 102, 2432,   98],\n",
              "       [ 103, 3543,   87],\n",
              "       [ 104, 4654,   35]])"
            ]
          },
          "metadata": {},
          "execution_count": 5
        }
      ]
    },
    {
      "cell_type": "code",
      "source": [
        "# add a new data\n",
        "newcol = np.array([[109],[9879],[58]])\n",
        "scl = np.hstack((scl,newcol))\n",
        "scl"
      ],
      "metadata": {
        "colab": {
          "base_uri": "https://localhost:8080/"
        },
        "id": "t2qy_UrefLfG",
        "outputId": "db1823a4-7901-4958-f3a3-da7ab8981440"
      },
      "execution_count": 8,
      "outputs": [
        {
          "output_type": "execute_result",
          "data": {
            "text/plain": [
              "array([[ 101,  102,  103,  104,  109,  109],\n",
              "       [1321, 2432, 3543, 4654, 9879, 9879],\n",
              "       [  99,   98,   87,   67,   58,   58]])"
            ]
          },
          "metadata": {},
          "execution_count": 8
        }
      ]
    },
    {
      "cell_type": "code",
      "source": [
        "# modification\n",
        "student = scl[0]\n",
        "subject = scl[1]\n",
        "marks = scl[2]\n",
        "\n",
        "marks[0]=99\n",
        "marks[3]=67.45\n",
        "\n",
        "np.delete(subject,5)\n",
        "\n",
        "subject\n",
        "\n",
        "marks"
      ],
      "metadata": {
        "colab": {
          "base_uri": "https://localhost:8080/"
        },
        "id": "38x4ATqrfWQI",
        "outputId": "47e6bf2d-ddeb-44c0-d995-70bc211a3ea0"
      },
      "execution_count": 9,
      "outputs": [
        {
          "output_type": "execute_result",
          "data": {
            "text/plain": [
              "array([99, 98, 87, 67, 58, 58])"
            ]
          },
          "metadata": {},
          "execution_count": 9
        }
      ]
    },
    {
      "cell_type": "code",
      "source": [
        "data = np.array([student,subject,marks])\n",
        "data"
      ],
      "metadata": {
        "colab": {
          "base_uri": "https://localhost:8080/"
        },
        "id": "4N6ChB1ifZY4",
        "outputId": "a7460511-3e0d-4b19-9a6e-df767ceb5eeb"
      },
      "execution_count": 10,
      "outputs": [
        {
          "output_type": "execute_result",
          "data": {
            "text/plain": [
              "array([[ 101,  102,  103,  104,  109,  109],\n",
              "       [1321, 2432, 3543, 4654, 9879, 9879],\n",
              "       [  99,   98,   87,   67,   58,   58]])"
            ]
          },
          "metadata": {},
          "execution_count": 10
        }
      ]
    },
    {
      "cell_type": "code",
      "source": [
        "# copy\n",
        "nscl=scl.copy()\n",
        "nscl[0][5]=108\n",
        "nscl\n",
        "'''array([[ 101,  102,  103,  104,  107,  108,  109],\n",
        "       [1321, 2432, 3543, 4654, 8978, 7897, 9879],\n",
        "       [  99,   98,   87,   67,   76,   76,   58]])'''\n",
        "scl\n",
        "'''array([[ 101,  102,  103,  104,  107,  107,  109],\n",
        "       [1321, 2432, 3543, 4654, 8978, 7897, 9879],\n",
        "       [  99,   98,   87,   67,   76,   76,   58]])'''\n",
        "\n",
        "scl\n"
      ],
      "metadata": {
        "colab": {
          "base_uri": "https://localhost:8080/"
        },
        "id": "WXdip7WVfc0H",
        "outputId": "d6264317-a72d-4e89-e63a-930143edfded"
      },
      "execution_count": 11,
      "outputs": [
        {
          "output_type": "execute_result",
          "data": {
            "text/plain": [
              "array([[ 101,  102,  103,  104,  109,  109],\n",
              "       [1321, 2432, 3543, 4654, 9879, 9879],\n",
              "       [  99,   98,   87,   67,   58,   58]])"
            ]
          },
          "metadata": {},
          "execution_count": 11
        }
      ]
    },
    {
      "cell_type": "code",
      "source": [
        "# view\n",
        "\n",
        "vscl = scl.view()\n",
        "vscl[1][4]=8978\n",
        "vscl\n",
        "'''array([[ 101,  102,  103,  104,  107,  107,  109],\n",
        "       [1321, 2432, 3543, 4654, 8978, 7897, 9879],\n",
        "       [  99,   98,   87,   67,   76,   76,   58]])'''\n",
        "scl\n",
        "'''array([[ 101,  102,  103,  104,  107,  107,  109],\n",
        "       [1321, 2432, 3543, 4654, 8978, 7897, 9879],\n",
        "       [  99,   98,   87,   67,   76,   76,   58]])'''\n",
        "scl"
      ],
      "metadata": {
        "colab": {
          "base_uri": "https://localhost:8080/"
        },
        "id": "vNXsP5H9fgvR",
        "outputId": "48795863-b652-4970-d400-9b944c0cc7b7"
      },
      "execution_count": 12,
      "outputs": [
        {
          "output_type": "execute_result",
          "data": {
            "text/plain": [
              "array([[ 101,  102,  103,  104,  109,  109],\n",
              "       [1321, 2432, 3543, 4654, 8978, 9879],\n",
              "       [  99,   98,   87,   67,   58,   58]])"
            ]
          },
          "metadata": {},
          "execution_count": 12
        }
      ]
    }
  ]
}